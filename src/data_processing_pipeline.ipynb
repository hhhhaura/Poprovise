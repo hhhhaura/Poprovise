{
 "cells": [
  {
   "cell_type": "markdown",
   "metadata": {},
   "source": [
    "# Poprovise data processig pipeline\n",
    "* midi_raw files\n",
    "* miditok tokenization\n"
   ]
  },
  {
   "cell_type": "markdown",
   "metadata": {},
   "source": [
    "## Testing various miditok configurations"
   ]
  },
  {
   "cell_type": "code",
   "execution_count": null,
   "metadata": {},
   "outputs": [
    {
     "name": "stdout",
     "output_type": "stream",
     "text": [
      "1673\n",
      "Score(ttype=Tick, tpq=8, begin=0, end=629, tracks=1, notes=467, time_sig=1, key_sig=0, markers=0)\n"
     ]
    }
   ],
   "source": [
    "from miditok import REMI, TokenizerConfig\n",
    "from symusic import Score\n",
    "\n",
    "# Creating a multitrack tokenizer, read the doc to explore all the parameters\n",
    "''' \n",
    "Try out: \n",
    "- use_sustained_pedals\n",
    "- \n",
    "'''\n",
    "TOKENIZER_PARAMS = {\n",
    "    \"pitch_range\": (21, 109),\n",
    "    \"beat_res\": {(0, 4): 8, (4, 12): 4},\n",
    "    \"num_velocities\": 32,\n",
    "    \"special_tokens\": [\"PAD\", \"BOS\", \"EOS\", \"MASK\"],\n",
    "    \"use_chords\": True,\n",
    "    \"use_rests\": False,\n",
    "    \"use_tempos\": True,\n",
    "    \"use_time_signatures\": False,\n",
    "    \"use_programs\": False,\n",
    "    \"num_tempos\": 32,  # number of tempo bins\n",
    "    \"tempo_range\": (40, 250),  # (min, max)\n",
    "}\n",
    "config = TokenizerConfig(**TOKENIZER_PARAMS)\n",
    "tokenizer = REMI(config)\n",
    "\n",
    "# Loads a midi, converts to tokens, and back to a MIDI\n",
    "midi = Score(\"/Users/yunchenc/NTU/DMIR/Poprovise/dataset/midi_raw/000/000_4.mid\")\n",
    "tokens = tokenizer(midi)  # calling the tokenizer will automatically detect MIDIs, paths and tokens\n",
    "print(len(tokens[0].tokens))\n",
    "converted_back_midi = tokenizer(tokens)  # PyTorch, Tensorflow and Numpy tensors are supported\n",
    "print(converted_back_midi)\n",
    "# converted_back_midi.dump_midi(Path(\"to\", \"decoded_midi.mid\"))\n",
    "\n"
   ]
  },
  {
   "cell_type": "code",
   "execution_count": null,
   "metadata": {},
   "outputs": [
    {
     "name": "stdout",
     "output_type": "stream",
     "text": [
      "[PosixPath('/Users/yunchenc/NTU/DMIR/Poprovise/dataset/midi_raw/000/000_4.mid'), PosixPath('/Users/yunchenc/NTU/DMIR/Poprovise/dataset/midi_raw/000/000_5.mid'), PosixPath('/Users/yunchenc/NTU/DMIR/Poprovise/dataset/midi_raw/000/000_2.mid'), PosixPath('/Users/yunchenc/NTU/DMIR/Poprovise/dataset/midi_raw/000/000_3.mid'), PosixPath('/Users/yunchenc/NTU/DMIR/Poprovise/dataset/midi_raw/000/000_1.mid')]\n",
      "\n",
      "\n",
      "\n"
     ]
    }
   ],
   "source": [
    "# Train a tokenizer with BPE\n",
    "import miditok\n",
    "from miditok import REMI\n",
    "from pathlib import Path\n",
    "\n",
    "# Creates the tokenizer and list the file paths\n",
    "tokenizer = REMI()  # using defaults parameters (constants.py)\n",
    "midi_paths = list(Path(\"/Users/yunchenc/NTU/DMIR/Poprovise/dataset/midi_raw/\").glob(\"**/*.mid\"))\n",
    "print(midi_paths)\n",
    "\n",
    "# Builds the vocabulary with BPE\n",
    "tokenizer.train(vocab_size=300000, files_paths=midi_paths)\n",
    "\n",
    "tokenizer.save(out_path='../tokenizers', filename='tokenizer.json')\n",
    "# tokenizer = REMI(params=Path(\"to\", \"tokenizer.json\"))"
   ]
  },
  {
   "cell_type": "code",
   "execution_count": 17,
   "metadata": {},
   "outputs": [
    {
     "name": "stdout",
     "output_type": "stream",
     "text": [
      "1672\n"
     ]
    },
    {
     "data": {
      "text/plain": [
       "Score(ttype=Tick, tpq=8, begin=0, end=629, tracks=1, notes=467, time_sig=1, key_sig=0, markers=0)"
      ]
     },
     "execution_count": 17,
     "metadata": {},
     "output_type": "execute_result"
    }
   ],
   "source": [
    "tokens = tokenizer.encode(midi)\n",
    "print(len(tokens[0].tokens))\n",
    "tokenizer.decode(tokens)\n"
   ]
  },
  {
   "cell_type": "code",
   "execution_count": null,
   "metadata": {},
   "outputs": [],
   "source": []
  }
 ],
 "metadata": {
  "kernelspec": {
   "display_name": "poprovise",
   "language": "python",
   "name": "python3"
  },
  "language_info": {
   "codemirror_mode": {
    "name": "ipython",
    "version": 3
   },
   "file_extension": ".py",
   "mimetype": "text/x-python",
   "name": "python",
   "nbconvert_exporter": "python",
   "pygments_lexer": "ipython3",
   "version": "3.11.10"
  }
 },
 "nbformat": 4,
 "nbformat_minor": 2
}
